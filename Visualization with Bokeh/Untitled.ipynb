{
 "cells": [
  {
   "cell_type": "markdown",
   "metadata": {},
   "source": [
    "<h1><a>Data Visualization with Bokeh</a></h1>"
   ]
  },
  {
   "cell_type": "markdown",
   "metadata": {},
   "source": [
    "      "
   ]
  },
  {
   "cell_type": "code",
   "execution_count": 29,
   "metadata": {},
   "outputs": [],
   "source": [
    "# Import libraries\n",
    "from pandas_datareader import data\n",
    "import pandas as pd\n",
    "import datetime\n",
    "from bokeh.plotting import figure\n",
    "from bokeh.io import output_file, show\n",
    "from bokeh.embed import components\n",
    "from bokeh.resources import CDN"
   ]
  },
  {
   "cell_type": "markdown",
   "metadata": {},
   "source": [
    "       "
   ]
  },
  {
   "cell_type": "markdown",
   "metadata": {},
   "source": [
    "<h2><a id=\"index\">Index</a></h2>\n",
    "\n",
    "[1. Get Data](#getdata)<br>\n",
    "[2. Candle Stick Chart](#candlestickchart)<br>"
   ]
  },
  {
   "cell_type": "markdown",
   "metadata": {},
   "source": [
    "       "
   ]
  },
  {
   "cell_type": "markdown",
   "metadata": {},
   "source": [
    "<h2><a id=\"getdata\">1. Get Data</a></h2>\n",
    "\n",
    "[Index](#index)"
   ]
  },
  {
   "cell_type": "code",
   "execution_count": 20,
   "metadata": {},
   "outputs": [
    {
     "data": {
      "text/html": [
       "<div>\n",
       "<style scoped>\n",
       "    .dataframe tbody tr th:only-of-type {\n",
       "        vertical-align: middle;\n",
       "    }\n",
       "\n",
       "    .dataframe tbody tr th {\n",
       "        vertical-align: top;\n",
       "    }\n",
       "\n",
       "    .dataframe thead th {\n",
       "        text-align: right;\n",
       "    }\n",
       "</style>\n",
       "<table border=\"1\" class=\"dataframe\">\n",
       "  <thead>\n",
       "    <tr style=\"text-align: right;\">\n",
       "      <th></th>\n",
       "      <th>High</th>\n",
       "      <th>Low</th>\n",
       "      <th>Open</th>\n",
       "      <th>Close</th>\n",
       "      <th>Volume</th>\n",
       "      <th>Adj Close</th>\n",
       "    </tr>\n",
       "    <tr>\n",
       "      <th>Date</th>\n",
       "      <th></th>\n",
       "      <th></th>\n",
       "      <th></th>\n",
       "      <th></th>\n",
       "      <th></th>\n",
       "      <th></th>\n",
       "    </tr>\n",
       "  </thead>\n",
       "  <tbody>\n",
       "    <tr>\n",
       "      <td>2021-03-01</td>\n",
       "      <td>2086.520020</td>\n",
       "      <td>2046.099976</td>\n",
       "      <td>2056.520020</td>\n",
       "      <td>2081.510010</td>\n",
       "      <td>1404500</td>\n",
       "      <td>2081.510010</td>\n",
       "    </tr>\n",
       "    <tr>\n",
       "      <td>2021-03-02</td>\n",
       "      <td>2104.370117</td>\n",
       "      <td>2071.260010</td>\n",
       "      <td>2076.189941</td>\n",
       "      <td>2075.840088</td>\n",
       "      <td>1134600</td>\n",
       "      <td>2075.840088</td>\n",
       "    </tr>\n",
       "    <tr>\n",
       "      <td>2021-03-03</td>\n",
       "      <td>2088.518066</td>\n",
       "      <td>2010.000000</td>\n",
       "      <td>2067.209961</td>\n",
       "      <td>2026.709961</td>\n",
       "      <td>1484200</td>\n",
       "      <td>2026.709961</td>\n",
       "    </tr>\n",
       "    <tr>\n",
       "      <td>2021-03-04</td>\n",
       "      <td>2089.239990</td>\n",
       "      <td>2020.270020</td>\n",
       "      <td>2023.369995</td>\n",
       "      <td>2049.090088</td>\n",
       "      <td>2118000</td>\n",
       "      <td>2049.090088</td>\n",
       "    </tr>\n",
       "    <tr>\n",
       "      <td>2021-03-05</td>\n",
       "      <td>2118.110107</td>\n",
       "      <td>2046.415039</td>\n",
       "      <td>2073.120117</td>\n",
       "      <td>2108.540039</td>\n",
       "      <td>2195200</td>\n",
       "      <td>2108.540039</td>\n",
       "    </tr>\n",
       "  </tbody>\n",
       "</table>\n",
       "</div>"
      ],
      "text/plain": [
       "                   High          Low         Open        Close   Volume  \\\n",
       "Date                                                                      \n",
       "2021-03-01  2086.520020  2046.099976  2056.520020  2081.510010  1404500   \n",
       "2021-03-02  2104.370117  2071.260010  2076.189941  2075.840088  1134600   \n",
       "2021-03-03  2088.518066  2010.000000  2067.209961  2026.709961  1484200   \n",
       "2021-03-04  2089.239990  2020.270020  2023.369995  2049.090088  2118000   \n",
       "2021-03-05  2118.110107  2046.415039  2073.120117  2108.540039  2195200   \n",
       "\n",
       "              Adj Close  \n",
       "Date                     \n",
       "2021-03-01  2081.510010  \n",
       "2021-03-02  2075.840088  \n",
       "2021-03-03  2026.709961  \n",
       "2021-03-04  2049.090088  \n",
       "2021-03-05  2108.540039  "
      ]
     },
     "execution_count": 20,
     "metadata": {},
     "output_type": "execute_result"
    }
   ],
   "source": [
    "start_date = datetime.datetime(2021,3,1)\n",
    "end_date = datetime.datetime(2022, 3, 10)\n",
    "df = data.DataReader(name=\"GOOG\", data_source=\"yahoo\", start=start_date, end=end_date)\n",
    "df.head()"
   ]
  },
  {
   "cell_type": "code",
   "execution_count": 21,
   "metadata": {},
   "outputs": [],
   "source": [
    "def inc_dec(c, o):\n",
    "    if c > o:\n",
    "        value=\"Increase\"\n",
    "    elif c < o:\n",
    "        value=\"Decrease\"\n",
    "    else:\n",
    "        value=\"Equal\"\n",
    "    return value"
   ]
  },
  {
   "cell_type": "code",
   "execution_count": 22,
   "metadata": {},
   "outputs": [],
   "source": [
    "df[\"Status\"] = [inc_dec(c,o) for c,o in zip(df.Close, df.Open)]"
   ]
  },
  {
   "cell_type": "code",
   "execution_count": 23,
   "metadata": {},
   "outputs": [],
   "source": [
    "df[\"Middle\"] = (df.Open + df.Close)/2\n",
    "df[\"Height\"] = abs(df.Close - df.Open)"
   ]
  },
  {
   "cell_type": "code",
   "execution_count": 24,
   "metadata": {},
   "outputs": [
    {
     "data": {
      "text/html": [
       "<div>\n",
       "<style scoped>\n",
       "    .dataframe tbody tr th:only-of-type {\n",
       "        vertical-align: middle;\n",
       "    }\n",
       "\n",
       "    .dataframe tbody tr th {\n",
       "        vertical-align: top;\n",
       "    }\n",
       "\n",
       "    .dataframe thead th {\n",
       "        text-align: right;\n",
       "    }\n",
       "</style>\n",
       "<table border=\"1\" class=\"dataframe\">\n",
       "  <thead>\n",
       "    <tr style=\"text-align: right;\">\n",
       "      <th></th>\n",
       "      <th>High</th>\n",
       "      <th>Low</th>\n",
       "      <th>Open</th>\n",
       "      <th>Close</th>\n",
       "      <th>Volume</th>\n",
       "      <th>Adj Close</th>\n",
       "      <th>Status</th>\n",
       "      <th>Middle</th>\n",
       "      <th>Height</th>\n",
       "    </tr>\n",
       "    <tr>\n",
       "      <th>Date</th>\n",
       "      <th></th>\n",
       "      <th></th>\n",
       "      <th></th>\n",
       "      <th></th>\n",
       "      <th></th>\n",
       "      <th></th>\n",
       "      <th></th>\n",
       "      <th></th>\n",
       "      <th></th>\n",
       "    </tr>\n",
       "  </thead>\n",
       "  <tbody>\n",
       "    <tr>\n",
       "      <td>2021-03-01</td>\n",
       "      <td>2086.520020</td>\n",
       "      <td>2046.099976</td>\n",
       "      <td>2056.520020</td>\n",
       "      <td>2081.510010</td>\n",
       "      <td>1404500</td>\n",
       "      <td>2081.510010</td>\n",
       "      <td>Increase</td>\n",
       "      <td>2069.015015</td>\n",
       "      <td>24.989990</td>\n",
       "    </tr>\n",
       "    <tr>\n",
       "      <td>2021-03-02</td>\n",
       "      <td>2104.370117</td>\n",
       "      <td>2071.260010</td>\n",
       "      <td>2076.189941</td>\n",
       "      <td>2075.840088</td>\n",
       "      <td>1134600</td>\n",
       "      <td>2075.840088</td>\n",
       "      <td>Decrease</td>\n",
       "      <td>2076.015015</td>\n",
       "      <td>0.349854</td>\n",
       "    </tr>\n",
       "    <tr>\n",
       "      <td>2021-03-03</td>\n",
       "      <td>2088.518066</td>\n",
       "      <td>2010.000000</td>\n",
       "      <td>2067.209961</td>\n",
       "      <td>2026.709961</td>\n",
       "      <td>1484200</td>\n",
       "      <td>2026.709961</td>\n",
       "      <td>Decrease</td>\n",
       "      <td>2046.959961</td>\n",
       "      <td>40.500000</td>\n",
       "    </tr>\n",
       "    <tr>\n",
       "      <td>2021-03-04</td>\n",
       "      <td>2089.239990</td>\n",
       "      <td>2020.270020</td>\n",
       "      <td>2023.369995</td>\n",
       "      <td>2049.090088</td>\n",
       "      <td>2118000</td>\n",
       "      <td>2049.090088</td>\n",
       "      <td>Increase</td>\n",
       "      <td>2036.230042</td>\n",
       "      <td>25.720093</td>\n",
       "    </tr>\n",
       "    <tr>\n",
       "      <td>2021-03-05</td>\n",
       "      <td>2118.110107</td>\n",
       "      <td>2046.415039</td>\n",
       "      <td>2073.120117</td>\n",
       "      <td>2108.540039</td>\n",
       "      <td>2195200</td>\n",
       "      <td>2108.540039</td>\n",
       "      <td>Increase</td>\n",
       "      <td>2090.830078</td>\n",
       "      <td>35.419922</td>\n",
       "    </tr>\n",
       "  </tbody>\n",
       "</table>\n",
       "</div>"
      ],
      "text/plain": [
       "                   High          Low         Open        Close   Volume  \\\n",
       "Date                                                                      \n",
       "2021-03-01  2086.520020  2046.099976  2056.520020  2081.510010  1404500   \n",
       "2021-03-02  2104.370117  2071.260010  2076.189941  2075.840088  1134600   \n",
       "2021-03-03  2088.518066  2010.000000  2067.209961  2026.709961  1484200   \n",
       "2021-03-04  2089.239990  2020.270020  2023.369995  2049.090088  2118000   \n",
       "2021-03-05  2118.110107  2046.415039  2073.120117  2108.540039  2195200   \n",
       "\n",
       "              Adj Close    Status       Middle     Height  \n",
       "Date                                                       \n",
       "2021-03-01  2081.510010  Increase  2069.015015  24.989990  \n",
       "2021-03-02  2075.840088  Decrease  2076.015015   0.349854  \n",
       "2021-03-03  2026.709961  Decrease  2046.959961  40.500000  \n",
       "2021-03-04  2049.090088  Increase  2036.230042  25.720093  \n",
       "2021-03-05  2108.540039  Increase  2090.830078  35.419922  "
      ]
     },
     "execution_count": 24,
     "metadata": {},
     "output_type": "execute_result"
    }
   ],
   "source": [
    "df.head()"
   ]
  },
  {
   "cell_type": "markdown",
   "metadata": {},
   "source": [
    "      "
   ]
  },
  {
   "cell_type": "markdown",
   "metadata": {},
   "source": [
    "<h2><a id=\"candlestickchart\">2. Candle Stick Chart</a></h2>\n",
    "\n",
    "[Index](#index)"
   ]
  },
  {
   "cell_type": "code",
   "execution_count": 25,
   "metadata": {},
   "outputs": [],
   "source": [
    "p = figure(x_axis_type='datetime', width=1000, height=300, sizing_mode = \"scale_width\")\n",
    "p.title.text = \"Candlestick Chart\"\n",
    "p.grid.grid_line_alpha=0.3\n",
    "\n",
    "p.segment(df.index, df.High, df.index, df.Low, color=\"Black\")\n",
    "\n",
    "hours_12 = 12*60*60*1000\n",
    "\n",
    "p.rect(df.index[df.Status==\"Increase\"], df.Middle[df.Status==\"Increase\"],\n",
    "      hours_12, df.Height[df.Status==\"Increase\"], fill_color=\"#CCFFFF\", line_color=\"black\")\n",
    "\n",
    "p.rect(df.index[df.Status==\"Decrease\"], df.Middle[df.Status==\"Decrease\"],\n",
    "      hours_12, df.Height[df.Status==\"Decrease\"], fill_color=\"#FF3333\", line_color=\"black\")\n",
    "\n",
    "# Below lines are only to output files locally\n",
    "#output_file(\"CS.html\")\n",
    "#show(p)"
   ]
  },
  {
   "cell_type": "code",
   "execution_count": 30,
   "metadata": {},
   "outputs": [],
   "source": [
    "script1, div1, = components(p)\n",
    "cdn_js = CDN.js_files\n",
    "cdn_css = CDN.css_files"
   ]
  },
  {
   "cell_type": "code",
   "execution_count": null,
   "metadata": {},
   "outputs": [],
   "source": []
  },
  {
   "cell_type": "code",
   "execution_count": null,
   "metadata": {},
   "outputs": [],
   "source": []
  }
 ],
 "metadata": {
  "kernelspec": {
   "display_name": "Python 3",
   "language": "python",
   "name": "python3"
  },
  "language_info": {
   "codemirror_mode": {
    "name": "ipython",
    "version": 3
   },
   "file_extension": ".py",
   "mimetype": "text/x-python",
   "name": "python",
   "nbconvert_exporter": "python",
   "pygments_lexer": "ipython3",
   "version": "3.6.9"
  }
 },
 "nbformat": 4,
 "nbformat_minor": 5
}
