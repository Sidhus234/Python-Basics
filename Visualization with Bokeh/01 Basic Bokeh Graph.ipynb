{
 "cells": [
  {
   "cell_type": "markdown",
   "metadata": {},
   "source": [
    "<h1><a>Basic Bokeh Graph</a></h1>"
   ]
  },
  {
   "cell_type": "markdown",
   "metadata": {},
   "source": [
    "         "
   ]
  },
  {
   "cell_type": "markdown",
   "metadata": {},
   "source": [
    "<h2><a id=\"index\">Index</a></h2>\n",
    "\n",
    "[1. Basic Line Graph](#basiclinegraph)\n",
    "\n",
    "[2. Triangle Graph](#trianglegraph)\n",
    "\n",
    "[3. Circle Graph](#circlegraph)"
   ]
  },
  {
   "cell_type": "markdown",
   "metadata": {},
   "source": [
    "        "
   ]
  },
  {
   "cell_type": "markdown",
   "metadata": {},
   "source": [
    "<h2><a id=\"basiclinegraph\">1. Basic Line Graph</a></h2>\n",
    "\n",
    "[Index](#index)"
   ]
  },
  {
   "cell_type": "code",
   "execution_count": 1,
   "metadata": {},
   "outputs": [],
   "source": [
    "# import Bokeh\n",
    "from bokeh.plotting import figure\n",
    "from bokeh.io import output_file, show"
   ]
  },
  {
   "cell_type": "code",
   "execution_count": 2,
   "metadata": {},
   "outputs": [],
   "source": [
    "# Create some data to visualize\n",
    "x = [1, 2, 3, 4, 5]\n",
    "y = [6, 7, 8, 9, 10]"
   ]
  },
  {
   "cell_type": "code",
   "execution_count": 3,
   "metadata": {},
   "outputs": [],
   "source": [
    "# Prepare the output file\n",
    "output_file(\"Line.html\")"
   ]
  },
  {
   "cell_type": "code",
   "execution_count": 4,
   "metadata": {},
   "outputs": [],
   "source": [
    "# Create a figure object\n",
    "f = figure()"
   ]
  },
  {
   "cell_type": "code",
   "execution_count": 5,
   "metadata": {},
   "outputs": [],
   "source": [
    "# create the line plot\n",
    "f.line(x, y)\n",
    "show(f)"
   ]
  },
  {
   "cell_type": "code",
   "execution_count": 6,
   "metadata": {},
   "outputs": [
    {
     "data": {
      "text/plain": [
       "['__annotations__',\n",
       " '__cached_all__overridden_defaults__',\n",
       " '__cached_all__properties__',\n",
       " '__cached_all__properties_with_refs__',\n",
       " '__cached_all__property_aliases__',\n",
       " '__class__',\n",
       " '__container_props__',\n",
       " '__delattr__',\n",
       " '__dict__',\n",
       " '__dir__',\n",
       " '__doc__',\n",
       " '__eq__',\n",
       " '__format__',\n",
       " '__ge__',\n",
       " '__getattribute__',\n",
       " '__gt__',\n",
       " '__hash__',\n",
       " '__init__',\n",
       " '__init_subclass__',\n",
       " '__le__',\n",
       " '__lt__',\n",
       " '__module__',\n",
       " '__ne__',\n",
       " '__new__',\n",
       " '__overridden_defaults__',\n",
       " '__properties__',\n",
       " '__properties_with_refs__',\n",
       " '__property_aliases__',\n",
       " '__qualified_model__',\n",
       " '__reduce__',\n",
       " '__reduce_ex__',\n",
       " '__repr__',\n",
       " '__setattr__',\n",
       " '__sizeof__',\n",
       " '__str__',\n",
       " '__subclasshook__',\n",
       " '__subtype__',\n",
       " '__view_model__',\n",
       " '__view_module__',\n",
       " '__weakref__',\n",
       " '_attach_document',\n",
       " '_axis',\n",
       " '_callbacks',\n",
       " '_check_bad_extra_range_name',\n",
       " '_check_compatible_scale_and_ranges',\n",
       " '_check_fixed_height_policy',\n",
       " '_check_fixed_sizing_mode',\n",
       " '_check_fixed_width_policy',\n",
       " '_check_missing_renderers',\n",
       " '_check_required_range',\n",
       " '_check_required_scale',\n",
       " '_clear_extensions',\n",
       " '_clone',\n",
       " '_detach_document',\n",
       " '_document',\n",
       " '_event_callbacks',\n",
       " '_grid',\n",
       " '_id',\n",
       " '_initialized',\n",
       " '_line_stack',\n",
       " '_min_preferred_max_height',\n",
       " '_min_preferred_max_width',\n",
       " '_overridden_defaults',\n",
       " '_property_aliases',\n",
       " '_property_values',\n",
       " '_repr_html_',\n",
       " '_scale',\n",
       " '_scatter',\n",
       " '_temp_document',\n",
       " '_to_json_like',\n",
       " '_trigger_event',\n",
       " '_unstable_default_values',\n",
       " '_unstable_themed_values',\n",
       " '_update_event_callbacks',\n",
       " 'above',\n",
       " 'add_glyph',\n",
       " 'add_layout',\n",
       " 'add_tile',\n",
       " 'add_tools',\n",
       " 'align',\n",
       " 'annular_wedge',\n",
       " 'annulus',\n",
       " 'apply_theme',\n",
       " 'arc',\n",
       " 'aspect_ratio',\n",
       " 'aspect_scale',\n",
       " 'asterisk',\n",
       " 'axis',\n",
       " 'background',\n",
       " 'background_fill_alpha',\n",
       " 'background_fill_color',\n",
       " 'below',\n",
       " 'bezier',\n",
       " 'border_fill_alpha',\n",
       " 'border_fill_color',\n",
       " 'center',\n",
       " 'circle',\n",
       " 'circle_cross',\n",
       " 'circle_dot',\n",
       " 'circle_x',\n",
       " 'circle_y',\n",
       " 'column',\n",
       " 'cross',\n",
       " 'css_classes',\n",
       " 'dash',\n",
       " 'dataspecs',\n",
       " 'dataspecs_with_props',\n",
       " 'diamond',\n",
       " 'diamond_cross',\n",
       " 'diamond_dot',\n",
       " 'disabled',\n",
       " 'document',\n",
       " 'dot',\n",
       " 'ellipse',\n",
       " 'equals',\n",
       " 'extra_x_ranges',\n",
       " 'extra_y_ranges',\n",
       " 'frame_height',\n",
       " 'frame_width',\n",
       " 'graph',\n",
       " 'grid',\n",
       " 'harea',\n",
       " 'harea_stack',\n",
       " 'hbar',\n",
       " 'hbar_stack',\n",
       " 'height',\n",
       " 'height_policy',\n",
       " 'hex',\n",
       " 'hex_dot',\n",
       " 'hex_tile',\n",
       " 'hexbin',\n",
       " 'hidpi',\n",
       " 'hline_stack',\n",
       " 'hover',\n",
       " 'id',\n",
       " 'image',\n",
       " 'image_rgba',\n",
       " 'image_url',\n",
       " 'inner_height',\n",
       " 'inner_width',\n",
       " 'inverted_triangle',\n",
       " 'js_event_callbacks',\n",
       " 'js_link',\n",
       " 'js_on_change',\n",
       " 'js_on_event',\n",
       " 'js_property_callbacks',\n",
       " 'layout',\n",
       " 'left',\n",
       " 'legend',\n",
       " 'line',\n",
       " 'lod_factor',\n",
       " 'lod_interval',\n",
       " 'lod_threshold',\n",
       " 'lod_timeout',\n",
       " 'lookup',\n",
       " 'margin',\n",
       " 'match_aspect',\n",
       " 'max_height',\n",
       " 'max_width',\n",
       " 'min_border',\n",
       " 'min_border_bottom',\n",
       " 'min_border_left',\n",
       " 'min_border_right',\n",
       " 'min_border_top',\n",
       " 'min_height',\n",
       " 'min_width',\n",
       " 'model_class_reverse_map',\n",
       " 'multi_line',\n",
       " 'multi_polygons',\n",
       " 'name',\n",
       " 'on_change',\n",
       " 'on_event',\n",
       " 'outer_height',\n",
       " 'outer_width',\n",
       " 'outline_line_alpha',\n",
       " 'outline_line_cap',\n",
       " 'outline_line_color',\n",
       " 'outline_line_dash',\n",
       " 'outline_line_dash_offset',\n",
       " 'outline_line_join',\n",
       " 'outline_line_width',\n",
       " 'output_backend',\n",
       " 'oval',\n",
       " 'patch',\n",
       " 'patches',\n",
       " 'plot_height',\n",
       " 'plot_width',\n",
       " 'plus',\n",
       " 'properties',\n",
       " 'properties_containers',\n",
       " 'properties_with_refs',\n",
       " 'properties_with_values',\n",
       " 'quad',\n",
       " 'quadratic',\n",
       " 'query_properties_with_values',\n",
       " 'ray',\n",
       " 'rect',\n",
       " 'ref',\n",
       " 'references',\n",
       " 'remove_on_change',\n",
       " 'renderers',\n",
       " 'reset_policy',\n",
       " 'right',\n",
       " 'row',\n",
       " 'scatter',\n",
       " 'segment',\n",
       " 'select',\n",
       " 'select_one',\n",
       " 'set_from_json',\n",
       " 'set_select',\n",
       " 'sizing_mode',\n",
       " 'square',\n",
       " 'square_cross',\n",
       " 'square_dot',\n",
       " 'square_pin',\n",
       " 'square_x',\n",
       " 'star',\n",
       " 'star_dot',\n",
       " 'static_to_serializable',\n",
       " 'step',\n",
       " 'struct',\n",
       " 'subscribed_events',\n",
       " 'syncable',\n",
       " 'tags',\n",
       " 'text',\n",
       " 'themed_values',\n",
       " 'title',\n",
       " 'title_location',\n",
       " 'to_json',\n",
       " 'to_json_string',\n",
       " 'to_serializable',\n",
       " 'toolbar',\n",
       " 'toolbar_location',\n",
       " 'toolbar_sticky',\n",
       " 'tools',\n",
       " 'triangle',\n",
       " 'triangle_dot',\n",
       " 'triangle_pin',\n",
       " 'trigger',\n",
       " 'unapply_theme',\n",
       " 'update',\n",
       " 'update_from_json',\n",
       " 'varea',\n",
       " 'varea_stack',\n",
       " 'vbar',\n",
       " 'vbar_stack',\n",
       " 'visible',\n",
       " 'vline_stack',\n",
       " 'wedge',\n",
       " 'width',\n",
       " 'width_policy',\n",
       " 'x',\n",
       " 'x_range',\n",
       " 'x_scale',\n",
       " 'xaxis',\n",
       " 'xgrid',\n",
       " 'y',\n",
       " 'y_range',\n",
       " 'y_scale',\n",
       " 'yaxis',\n",
       " 'ygrid']"
      ]
     },
     "execution_count": 6,
     "metadata": {},
     "output_type": "execute_result"
    }
   ],
   "source": [
    "dir(f)"
   ]
  },
  {
   "cell_type": "markdown",
   "metadata": {},
   "source": [
    "      "
   ]
  },
  {
   "cell_type": "markdown",
   "metadata": {},
   "source": [
    "<h2><a id=\"trianglegraph\">2. Triangle Graph</a></h2>\n",
    "\n",
    "[Index](#index)"
   ]
  },
  {
   "cell_type": "code",
   "execution_count": 7,
   "metadata": {},
   "outputs": [],
   "source": [
    "# Prepare the output file\n",
    "output_file(\"triangle.html\")"
   ]
  },
  {
   "cell_type": "code",
   "execution_count": 8,
   "metadata": {},
   "outputs": [],
   "source": [
    "# Create a figure object\n",
    "f = figure()"
   ]
  },
  {
   "cell_type": "code",
   "execution_count": 9,
   "metadata": {},
   "outputs": [],
   "source": [
    "# create the line plot\n",
    "f.triangle(x, y)\n",
    "show(f)"
   ]
  },
  {
   "cell_type": "markdown",
   "metadata": {},
   "source": [
    "        "
   ]
  },
  {
   "cell_type": "markdown",
   "metadata": {},
   "source": [
    "<h2><a id=\"circlegraph\">3. Circle Graph</a></h2>\n",
    "\n",
    "[Index](#index)"
   ]
  },
  {
   "cell_type": "code",
   "execution_count": 10,
   "metadata": {},
   "outputs": [],
   "source": [
    "# Prepare the output file\n",
    "output_file(\"circle.html\")"
   ]
  },
  {
   "cell_type": "code",
   "execution_count": 11,
   "metadata": {},
   "outputs": [],
   "source": [
    "# Create a figure object\n",
    "f = figure()"
   ]
  },
  {
   "cell_type": "code",
   "execution_count": 12,
   "metadata": {},
   "outputs": [],
   "source": [
    "# create the line plot\n",
    "f.circle(x, y)\n",
    "show(f)"
   ]
  },
  {
   "cell_type": "markdown",
   "metadata": {},
   "source": [
    "    "
   ]
  },
  {
   "cell_type": "markdown",
   "metadata": {},
   "source": [
    "    "
   ]
  }
 ],
 "metadata": {
  "kernelspec": {
   "display_name": "Python 3",
   "language": "python",
   "name": "python3"
  },
  "language_info": {
   "codemirror_mode": {
    "name": "ipython",
    "version": 3
   },
   "file_extension": ".py",
   "mimetype": "text/x-python",
   "name": "python",
   "nbconvert_exporter": "python",
   "pygments_lexer": "ipython3",
   "version": "3.7.6"
  }
 },
 "nbformat": 4,
 "nbformat_minor": 4
}
