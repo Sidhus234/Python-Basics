{
 "cells": [
  {
   "cell_type": "markdown",
   "metadata": {},
   "source": [
    "<h1><a>Basic Program</a></h1>"
   ]
  },
  {
   "cell_type": "markdown",
   "metadata": {},
   "source": [
    "__Problem Statement:__ Ask user to say something. Accept the user input. Repeat it till the user enters \"\\end\". Then print the whole input as one string. Ensure:\n",
    "\n",
    "<li>Each sentence with first capital letter.</li>\n",
    "<li>There must be a full stop or a quesiton mark.</li>"
   ]
  },
  {
   "cell_type": "code",
   "execution_count": 1,
   "metadata": {},
   "outputs": [],
   "source": [
    "def sentence_maker(phrase):\n",
    "    interrogatives = (\"How\", \"What\", \"What\", \"When\", \"Where\")\n",
    "    capitalized = phrase.capitalize()\n",
    "    if phrase.startswith(interrogatives):\n",
    "        return \"{}? \".format(capitalized)\n",
    "    else:\n",
    "        return \"{}. \".format(capitalized)"
   ]
  },
  {
   "cell_type": "code",
   "execution_count": 2,
   "metadata": {},
   "outputs": [
    {
     "name": "stdout",
     "output_type": "stream",
     "text": [
      "Say something: How are you\n",
      "Say something: am good, thanks\n",
      "Say something: \\end\n",
      "How are you? Am good, thanks. \n"
     ]
    }
   ],
   "source": [
    "input_str = ''\n",
    "while True:\n",
    "    new_input = input(\"Say something: \")\n",
    "    if new_input == \"\\end\":\n",
    "        print(input_str)\n",
    "        break\n",
    "    else:\n",
    "        new_input = sentence_maker(new_input)\n",
    "        input_str += new_input"
   ]
  },
  {
   "cell_type": "markdown",
   "metadata": {},
   "source": [
    "     "
   ]
  },
  {
   "cell_type": "markdown",
   "metadata": {},
   "source": [
    "     "
   ]
  }
 ],
 "metadata": {
  "kernelspec": {
   "display_name": "Python 3",
   "language": "python",
   "name": "python3"
  },
  "language_info": {
   "codemirror_mode": {
    "name": "ipython",
    "version": 3
   },
   "file_extension": ".py",
   "mimetype": "text/x-python",
   "name": "python",
   "nbconvert_exporter": "python",
   "pygments_lexer": "ipython3",
   "version": "3.7.6"
  }
 },
 "nbformat": 4,
 "nbformat_minor": 4
}
