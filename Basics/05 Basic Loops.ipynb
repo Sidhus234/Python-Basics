{
 "cells": [
  {
   "cell_type": "markdown",
   "metadata": {},
   "source": [
    "<h1><a>Basic Loops</a></h1>"
   ]
  },
  {
   "cell_type": "markdown",
   "metadata": {},
   "source": [
    "        "
   ]
  },
  {
   "cell_type": "markdown",
   "metadata": {},
   "source": [
    "<h2><a id=\"index\">Index</a></h2>\n",
    "\n",
    "[1. For Loop](#for)\n",
    "\n",
    "[2. While Loop](#while)"
   ]
  },
  {
   "cell_type": "markdown",
   "metadata": {},
   "source": [
    "    "
   ]
  },
  {
   "cell_type": "markdown",
   "metadata": {},
   "source": [
    "<h2><a id=\"for\">1. For Loop</a></h2>\n",
    "\n",
    "[Index](#index)"
   ]
  },
  {
   "cell_type": "code",
   "execution_count": 4,
   "metadata": {},
   "outputs": [
    {
     "name": "stdout",
     "output_type": "stream",
     "text": [
      "9\n",
      "9\n",
      "8\n"
     ]
    }
   ],
   "source": [
    "# Round the numbers\n",
    "monday_temperatures = [9.1, 8.8, 7.6]\n",
    "for temperature in monday_temperatures:\n",
    "    print(round(temperature))"
   ]
  },
  {
   "cell_type": "code",
   "execution_count": 5,
   "metadata": {},
   "outputs": [
    {
     "name": "stdout",
     "output_type": "stream",
     "text": [
      "H\n",
      "E\n",
      "L\n",
      "L\n",
      "O\n"
     ]
    }
   ],
   "source": [
    "for letter in 'hello':\n",
    "    print(letter.title())"
   ]
  },
  {
   "cell_type": "markdown",
   "metadata": {},
   "source": [
    "A for loop can also be used to execute a function multiple times. For example, below we are executing celsius_to_kelvin three times since there are three items in the iterating list:"
   ]
  },
  {
   "cell_type": "code",
   "execution_count": 6,
   "metadata": {},
   "outputs": [],
   "source": [
    "def celsius_to_kelvin(cels):\n",
    "    return cels + 273.15"
   ]
  },
  {
   "cell_type": "code",
   "execution_count": 7,
   "metadata": {},
   "outputs": [
    {
     "name": "stdout",
     "output_type": "stream",
     "text": [
      "282.25\n",
      "281.95\n",
      "3.0\n"
     ]
    }
   ],
   "source": [
    "for temperature in [9.1, 8.8, -270.15]:\n",
    "    print(celsius_to_kelvin(temperature))"
   ]
  },
  {
   "cell_type": "code",
   "execution_count": 8,
   "metadata": {},
   "outputs": [
    {
     "name": "stdout",
     "output_type": "stream",
     "text": [
      "91\n",
      "88\n",
      "75\n"
     ]
    }
   ],
   "source": [
    "# Looping through a dictionary\n",
    "student_grades = {\"Marry\": 91, \"Sim\": 88, \"John\": 75}\n",
    "for grades in student_grades.values():\n",
    "    print(grades)"
   ]
  },
  {
   "cell_type": "markdown",
   "metadata": {},
   "source": [
    "Here is an example that combines a dictionary loop with string formatting. The loop iterates over the dictionary and it generates and prints out a string in each iteration:"
   ]
  },
  {
   "cell_type": "code",
   "execution_count": 9,
   "metadata": {},
   "outputs": [
    {
     "name": "stdout",
     "output_type": "stream",
     "text": [
      "John has as phone number +37682929928\n",
      "Marry has as phone number +423998200919\n"
     ]
    }
   ],
   "source": [
    "phone_numbers = {\"John\": \"+37682929928\", \"Marry\": \"+423998200919\"}\n",
    "     \n",
    "for pair in phone_numbers.items():\n",
    "    print(f\"{pair[0]} has as phone number {pair[1]}\")"
   ]
  },
  {
   "cell_type": "markdown",
   "metadata": {},
   "source": [
    "And a better way to achieve the same results by iterating over keys and values:"
   ]
  },
  {
   "cell_type": "code",
   "execution_count": 10,
   "metadata": {},
   "outputs": [
    {
     "name": "stdout",
     "output_type": "stream",
     "text": [
      "John has as phone number +37682929928\n",
      "Marry has as phone number +423998200919\n"
     ]
    }
   ],
   "source": [
    "phone_numbers = {\"John\": \"+37682929928\", \"Marry\": \"+423998200919\"}\n",
    "     \n",
    "for key, value in phone_numbers.items():\n",
    "    print(f\"{key} has as phone number {value}\")"
   ]
  },
  {
   "cell_type": "markdown",
   "metadata": {},
   "source": [
    "     "
   ]
  },
  {
   "cell_type": "markdown",
   "metadata": {},
   "source": [
    "<h2><a id=\"while\">2. While Loop</a></h2>\n",
    "\n",
    "[Index](#index)"
   ]
  },
  {
   "cell_type": "code",
   "execution_count": 11,
   "metadata": {},
   "outputs": [
    {
     "name": "stdout",
     "output_type": "stream",
     "text": [
      "1\n",
      "1\n",
      "1\n"
     ]
    }
   ],
   "source": [
    "a = 3\n",
    "while a > 0:\n",
    "    print(1)\n",
    "    a -= 1"
   ]
  },
  {
   "cell_type": "code",
   "execution_count": 13,
   "metadata": {},
   "outputs": [
    {
     "name": "stdout",
     "output_type": "stream",
     "text": [
      "Enter username: py\n",
      "Enter username: pyy\n",
      "Enter username: pypy\n",
      "Correct username entered.\n"
     ]
    }
   ],
   "source": [
    "username = ''\n",
    "while username != 'pypy':\n",
    "    username = input(\"Enter username: \")\n",
    "print(\"Correct username entered.\")"
   ]
  },
  {
   "cell_type": "code",
   "execution_count": 14,
   "metadata": {},
   "outputs": [
    {
     "name": "stdout",
     "output_type": "stream",
     "text": [
      "Enter username: py\n",
      "Enter username: pyy\n",
      "Enter username: pyyyy\n",
      "Enter username: pypy\n"
     ]
    }
   ],
   "source": [
    "# while loop with break and continue\n",
    "while True:\n",
    "    username = input(\"Enter username: \")\n",
    "    if username == 'pypy':\n",
    "        break\n",
    "    else:\n",
    "        continue"
   ]
  },
  {
   "cell_type": "markdown",
   "metadata": {},
   "source": [
    "       "
   ]
  },
  {
   "cell_type": "markdown",
   "metadata": {},
   "source": [
    "    "
   ]
  }
 ],
 "metadata": {
  "kernelspec": {
   "display_name": "Python 3",
   "language": "python",
   "name": "python3"
  },
  "language_info": {
   "codemirror_mode": {
    "name": "ipython",
    "version": 3
   },
   "file_extension": ".py",
   "mimetype": "text/x-python",
   "name": "python",
   "nbconvert_exporter": "python",
   "pygments_lexer": "ipython3",
   "version": "3.7.6"
  }
 },
 "nbformat": 4,
 "nbformat_minor": 4
}
