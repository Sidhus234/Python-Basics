{
 "cells": [
  {
   "cell_type": "markdown",
   "metadata": {},
   "source": [
    "<h1><a>List Comprehension</a></h1>"
   ]
  },
  {
   "cell_type": "markdown",
   "metadata": {},
   "source": [
    "            "
   ]
  },
  {
   "cell_type": "markdown",
   "metadata": {},
   "source": [
    "<h2><a id=\"index\">Index</a></h2>\n",
    "\n",
    "[1. List Comprehension](#listcomprehension)"
   ]
  },
  {
   "cell_type": "markdown",
   "metadata": {},
   "source": [
    "       "
   ]
  },
  {
   "cell_type": "markdown",
   "metadata": {},
   "source": [
    "<h2><a id=\"listcomprehension\">1. List Comprehension</a></h2>\n",
    "\n",
    "[Index](#index)"
   ]
  },
  {
   "cell_type": "markdown",
   "metadata": {},
   "source": [
    "A list comprehension is an expression that creates a list by iterating over another container. "
   ]
  },
  {
   "cell_type": "code",
   "execution_count": 1,
   "metadata": {},
   "outputs": [
    {
     "name": "stdout",
     "output_type": "stream",
     "text": [
      "[22.1, 23.4, 34.0, 23.0]\n"
     ]
    }
   ],
   "source": [
    "# Simple list comprehension\n",
    "temps = [221, 234, 340, 230]\n",
    "temps = [x/10 for x in temps]\n",
    "print(temps)"
   ]
  },
  {
   "cell_type": "code",
   "execution_count": 2,
   "metadata": {},
   "outputs": [
    {
     "data": {
      "text/plain": [
       "[22.1, 23.4, 34.0, 23.0]"
      ]
     },
     "execution_count": 2,
     "metadata": {},
     "output_type": "execute_result"
    }
   ],
   "source": [
    "# List comprehension with if condition\n",
    "temps = [221, 234, 340, -9999, 230]\n",
    "temps = [x/10 for x in temps if x!= -9999]\n",
    "temps"
   ]
  },
  {
   "cell_type": "code",
   "execution_count": 4,
   "metadata": {},
   "outputs": [
    {
     "name": "stdout",
     "output_type": "stream",
     "text": [
      "[1, 2, True]\n"
     ]
    }
   ],
   "source": [
    "# Return only integers from the my_list\n",
    "def foo(my_list):\n",
    "    return [x for x in my_list if isinstance(x, int)]\n",
    "\n",
    "print(foo([1, 2, 'apple', True]))"
   ]
  },
  {
   "cell_type": "code",
   "execution_count": 5,
   "metadata": {},
   "outputs": [
    {
     "data": {
      "text/plain": [
       "[22.1, 23.4, 34.0, 0, 23.0]"
      ]
     },
     "execution_count": 5,
     "metadata": {},
     "output_type": "execute_result"
    }
   ],
   "source": [
    "# List comprehension with if-else \n",
    "temps = [221, 234, 340, -9999, 230]\n",
    "temps = [x/10 if x!= -9999 else 0 for x in temps]\n",
    "temps"
   ]
  },
  {
   "cell_type": "markdown",
   "metadata": {},
   "source": [
    "      "
   ]
  },
  {
   "cell_type": "markdown",
   "metadata": {},
   "source": [
    "     "
   ]
  }
 ],
 "metadata": {
  "kernelspec": {
   "display_name": "Python 3",
   "language": "python",
   "name": "python3"
  },
  "language_info": {
   "codemirror_mode": {
    "name": "ipython",
    "version": 3
   },
   "file_extension": ".py",
   "mimetype": "text/x-python",
   "name": "python",
   "nbconvert_exporter": "python",
   "pygments_lexer": "ipython3",
   "version": "3.7.6"
  }
 },
 "nbformat": 4,
 "nbformat_minor": 4
}
